{
  "nbformat": 4,
  "nbformat_minor": 0,
  "metadata": {
    "colab": {
      "provenance": []
    },
    "kernelspec": {
      "name": "python3",
      "display_name": "Python 3"
    },
    "language_info": {
      "name": "python"
    }
  },
  "cells": [
    {
      "cell_type": "code",
      "execution_count": 1,
      "metadata": {
        "id": "a7jFoYxPXQkq"
      },
      "outputs": [],
      "source": [
        "import spacy\n",
        "from string import punctuation\n",
        "import nltk"
      ]
    },
    {
      "cell_type": "code",
      "source": [
        "%%capture\n",
        "! python -m spacy download en_core_web_lg\n",
        "nltk.download('punkt')"
      ],
      "metadata": {
        "id": "lLpZ757qXV1U"
      },
      "execution_count": null,
      "outputs": []
    },
    {
      "cell_type": "code",
      "source": [
        "nlp = spacy.load(\"en_core_web_lg\")"
      ],
      "metadata": {
        "id": "nUhGI5_HXfYU"
      },
      "execution_count": 3,
      "outputs": []
    },
    {
      "cell_type": "code",
      "source": [
        "def get_facts(text):\n",
        "    doc = nlp(text)\n",
        "    pronouns = [(tok, tok.i) for tok in doc if (tok.tag_ == \"PRP\")]\n",
        "    names = [(ent.text, ent[0].i) for ent in doc.ents if ent.label_ == 'PERSON']\n",
        "    doc = [tok.text_with_ws for tok in doc]\n",
        "    for p in pronouns:\n",
        "        replace = max(filter(lambda x: x[1] < p[1], names),\n",
        "                      key=lambda x: x[1], default=False)\n",
        "        if replace:\n",
        "            replace = replace[0]\n",
        "            if doc[p[1] - 1] in punctuation:\n",
        "                replace = ' ' + replace\n",
        "            if doc[p[1] + 1] not in punctuation:\n",
        "                replace = replace + ' '\n",
        "            doc[p[1]] = replace\n",
        "    doc = ''.join(doc)\n",
        "\n",
        "    sent = []\n",
        "    tokens = nltk.sent_tokenize(doc)\n",
        "    for t in tokens:\n",
        "      sent.append(t)\n",
        "\n",
        "    fact = []\n",
        "    for txt in sent :\n",
        "      for ent in nlp(txt):\n",
        "        if ent.pos_ == 'NOUN' :\n",
        "          fact.append(txt)\n",
        "          break\n",
        "\n",
        "    return fact"
      ],
      "metadata": {
        "id": "o0_Q91m3XbLA"
      },
      "execution_count": 4,
      "outputs": []
    },
    {
      "cell_type": "code",
      "source": [
        "article = '''Droupadi Murmu is the new President of India. She defeated the opposition candidate Yashwant Sinha in the election, the result of which was announced on Thursday (July 21). Murmu, 64, is the first Adivasi and second woman to become the nation’s First Citizen and the Supreme Commander of India’s Armed Forces.\n",
        "\n",
        "Here are five things about the new incumbent of Rashtrapati Bhavan, who takes office in the historic 75th year of the nation’s Independence.\n",
        "Murmu has been a trailblazer from a very young age. Born into a Santhal family in 1958, she was the first girl in Uparbeda, one of the seven revenue villages in Uparbeda panchayat in Odisha’s backward Mayurbhanj district, to go to college — the Ramadevi Women’s College, now the Ramadevi Women’s University in Bhubaneswar.\n",
        "Before beginning her career in politics, Murmu was a teacher at the Sri Aurobindo Integral Education Centre in Rairangpur in Mayurbhanj, and later worked as a junior assistant in the irrigation and power department of the Odisha government.\n",
        "Murmu won an election to the Rairangpur Nagar Panchayat in 1997, and served as councillor. She was elected to two terms in the Odisha Assembly in 2000 and 2004, and served as a Minister from 2000 to 2004 in Chief Minister Naveen Patnaik’s BJD-BJP coalition government.\n",
        "\n",
        "She held the portfolio of Commerce and Transport and, subsequently, Fisheries and Animal Husbandry in the state government. As Transport Minister of Odisha, she was credited with having set up transport offices in all 58 subdivisions of the state.\n",
        "\n",
        "Murmu also served as vice-president of the BJP’s Scheduled Tribes Morcha.\n",
        "Despite a successful political career, Murmu also faced some hurdles along the way. In 2009, she contested the Lok Sabha election from Mayurbhanj constituency, but lost as the BJD and BJP severed ties.\n",
        "\n",
        "The electoral setback coincided with a tumultuous period in her personal life. Over the next six years, she lost three of her closest family members — her eldest son Laxman Murmu in 2009, her younger son Sippun Murmu in 2013, and then her husband Shyam Charan Murmu in 2014 — in a series of unfortunate incidents.\n",
        "Murmu was sworn in as the first woman Governor of Jharkhand in 2015.\n",
        "\n",
        "In November 2016, the BJP government of the state led by Chief Minister Raghubar Das passed amendments to two centuries-old land laws — the Chhotanagpur Tenancy (CNT) Act and the Santhal Pargana Tenancy (SPT) Act — that would have ensured easy transfer of land for industrial use. After widespread protests by Adivasis who believed that the move would limit their rights over land, Murmu returned the Bills in June 2017, and asked the government to clarify how the amendments would benefit tribals.\n",
        "\n",
        "The refusal to give her assent to controversial Bills passed by the government of the party to which she had herself belonged, won Murmu admiration and respect.\n",
        "Murmu, a Santhal leader and an inspirational figure for her community and for women in general, has frequently weighed in on issues that Adivasis face. On November 24, 2018, speaking at an international conference on financial inclusion, Governor Murmu said that even though the Jharkhand state government (then headed by the BJP) and the Centre were working to extend the benefits of banking services and other schemes to tribals, the condition of SCs and STs “remain extremely poor”. Murmu also called for the translation of literature on Adivasi languages and culture.\n",
        "'''"
      ],
      "metadata": {
        "id": "EQqQvDzzX-nr"
      },
      "execution_count": 5,
      "outputs": []
    },
    {
      "cell_type": "code",
      "source": [
        "article_facts = get_facts(article)"
      ],
      "metadata": {
        "id": "ooQqBEtJYDYh"
      },
      "execution_count": 6,
      "outputs": []
    },
    {
      "cell_type": "code",
      "source": [
        "for fact in article_facts :\n",
        "  print(fact)"
      ],
      "metadata": {
        "colab": {
          "base_uri": "https://localhost:8080/"
        },
        "id": "OnuYkPJ7YHUj",
        "outputId": "7ad8760a-ec94-42f2-d9b7-f90fe2c00e17"
      },
      "execution_count": 7,
      "outputs": [
        {
          "output_type": "stream",
          "name": "stdout",
          "text": [
            "Droupadi Murmu defeated the opposition candidate Yashwant Sinha in the election, the result of which was announced on Thursday (July 21).\n",
            "Murmu, 64, is the first Adivasi and second woman to become the nation’s First Citizen and the Supreme Commander of India’s Armed Forces.\n",
            "Here are five things about the new incumbent of Rashtrapati Bhavan, who takes office in the historic 75th year of the nation’s Independence.\n",
            "Murmu has been a trailblazer from a very young age.\n",
            "Born into a Santhal family in 1958, Murmu was the first girl in Uparbeda, one of the seven revenue villages in Uparbeda panchayat in Odisha’s backward Mayurbhanj district, to go to college — the Ramadevi Women’s College, now the Ramadevi Women’s University in Bhubaneswar.\n",
            "Before beginning her career in politics, Murmu was a teacher at the Sri Aurobindo Integral Education Centre in Rairangpur in Mayurbhanj, and later worked as a junior assistant in the irrigation and power department of the Odisha government.\n",
            "Murmu won an election to the Rairangpur Nagar Panchayat in 1997, and served as councillor.\n",
            "Murmu was elected to two terms in the Odisha Assembly in 2000 and 2004, and served as a Minister from 2000 to 2004 in Chief Minister Naveen Patnaik’s BJD-BJP coalition government.\n",
            "Naveen Patnaik held the portfolio of Commerce and Transport and, subsequently, Fisheries and Animal Husbandry in the state government.\n",
            "As Transport Minister of Odisha, Naveen Patnaik was credited with having set up transport offices in all 58 subdivisions of the state.\n",
            "Murmu also served as vice-president of the BJP’s Scheduled Tribes Morcha.\n",
            "Despite a successful political career, Murmu also faced some hurdles along the way.\n",
            "In 2009, Murmu contested the Lok Sabha election from Mayurbhanj constituency, but lost as the BJD and BJP severed ties.\n",
            "The electoral setback coincided with a tumultuous period in her personal life.\n",
            "Over the next six years, Murmu lost three of her closest family members — her eldest son Laxman Murmu in 2009, her younger son Sippun Murmu in 2013, and then her husband Shyam Charan Murmu in 2014 — in a series of unfortunate incidents.\n",
            "Murmu was sworn in as the first woman Governor of Jharkhand in 2015.\n",
            "In November 2016, the BJP government of the state led by Chief Minister Raghubar Das passed amendments to two centuries-old land laws — the Chhotanagpur Tenancy (CNT) Act and the Santhal Pargana Tenancy (SPT) Act — that would have ensured easy transfer of land for industrial use.\n",
            "After widespread protests by Adivasis who believed that the move would limit their rights over land, Murmu returned the Bills in June 2017, and asked the government to clarify how the amendments would benefit tribals.\n",
            "The refusal to give Murmu assent to controversial Bills passed by the government of the party to which Murmu had Murmu belonged, won Murmu admiration and respect.\n",
            "Murmu, a Santhal leader and an inspirational figure for her community and for women in general, has frequently weighed in on issues that Adivasis face.\n",
            "On November 24, 2018, speaking at an international conference on financial inclusion, Governor Murmu said that even though the Jharkhand state government (then headed by the BJP) and the Centre were working to extend the benefits of banking services and other schemes to tribals, the condition of SCs and STs “remain extremely poor”.\n",
            "Murmu also called for the translation of literature on Adivasi languages and culture.\n"
          ]
        }
      ]
    }
  ]
}